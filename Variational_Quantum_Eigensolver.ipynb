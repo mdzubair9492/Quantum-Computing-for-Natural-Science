{
 "cells": [
  {
   "cell_type": "markdown",
   "id": "b5419af5",
   "metadata": {},
   "source": [
    "## Variational Quantum Eigensolver for ground state energy\n",
    "In quantum chemistry, we can use the Variational Quantum Eigensolver (VQE) to solve for the ground state energy of the electronic Hamiltonian. Mapped to a sum of Pauli strings the electronic Hamiltonian has the following form\n",
    "$$\\hat{H}_{\\text{el}} = \\sum\\limits_{k=1}^K c_k \\hat{P}_k \\,, $$\n",
    "where $c_k$ are complex-valued coefficients, and the Paulis strings $\\hat{P}_k \\in \\{\\mathbf{1}, X, Y, Z \\}^{\\otimes n}$ are tensor products of the Pauli matrices (+ identity matrix).  \n",
    "Details about the electronic Hamiltonian and how it is mapped to qubits are provided in lecture 1 and 2 of this course.\n",
    "\n",
    "Given a parameterized trial wave function $| \\psi(\\theta) \\rangle$ characterized by a set of parameters $\\theta$, the energy is given as the expectation value of the Hamiltonian $\\hat{H}$ with respect to $| \\psi(\\theta) \\rangle$,\n",
    "$$ E = \\langle \\hat{H} \\rangle = \\langle \\psi(\\theta) | \\hat{H} | \\psi(\\theta) \\rangle \\,. $$\n",
    "\n",
    "The VQE algorithm then consists of the following steps: We prepare the trial wave function $| \\psi(\\theta) \\rangle$ on a quantum computer and measure the expectation values of the Pauli strings $\\langle \\hat{P}_k \\rangle$. The expectation values are then passed to the classical computer which combines them to obtain the energy. A classical optimization routine then updates the parameters and sends them back to the quantum computer. This loop is then repeated until a convergence criterion is met.  \n",
    "Details about the VQE algorithm are provided in lecture 3 of this course."
   ]
  },
  {
   "cell_type": "code",
   "execution_count": 1,
   "id": "f82d30a8",
   "metadata": {},
   "outputs": [],
   "source": [
    "import matplotlib.pyplot as plt\n",
    "import numpy as np"
   ]
  },
  {
   "cell_type": "code",
   "execution_count": 2,
   "id": "1bc55db8",
   "metadata": {
    "slideshow": {
     "slide_type": "skip"
    }
   },
   "outputs": [],
   "source": [
    "from qiskit.algorithms.optimizers import COBYLA\n",
    "from qiskit.algorithms.minimum_eigensolvers import VQE, NumPyMinimumEigensolver, MinimumEigensolverResult\n",
    "from qiskit.primitives import Estimator\n",
    "\n",
    "from qiskit_nature import settings\n",
    "from qiskit_nature.second_q.circuit.library import HartreeFock, UCCSD\n",
    "from qiskit_nature.second_q.drivers import PySCFDriver\n",
    "from qiskit_nature.second_q.mappers import ParityMapper\n",
    "from qiskit_nature.second_q.transformers import ActiveSpaceTransformer\n",
    "\n",
    "settings.tensor_unwrapping = False\n",
    "settings.use_pauli_sum_op = False"
   ]
  },
  {
   "cell_type": "markdown",
   "id": "2bfc1e17",
   "metadata": {},
   "source": [
    "In the first step we build the electronic Hamiltonian for a lithium-hydride molecule."
   ]
  },
  {
   "cell_type": "code",
   "execution_count": 3,
   "id": "656b6c61",
   "metadata": {
    "slideshow": {
     "slide_type": "skip"
    }
   },
   "outputs": [],
   "source": [
    "# Create molecule\n",
    "driver = PySCFDriver(atom='Li 0 0 0; H 0 0 1.3', basis='sto3g')\n",
    "\n",
    "# Get second quantized Hamiltonian\n",
    "problem = driver.run()\n",
    "hamiltonian = problem.hamiltonian.second_q_op()"
   ]
  },
  {
   "cell_type": "markdown",
   "id": "906c37ab",
   "metadata": {},
   "source": [
    "In the next step, we map the electronic Hamiltonian to its representation as a sum of Pauli strings. Here we use the `PartityMapper`. The resulting Hamiltonian is defined on 10 qubits."
   ]
  },
  {
   "cell_type": "code",
   "execution_count": 4,
   "id": "8a8bbfa3",
   "metadata": {
    "slideshow": {
     "slide_type": "skip"
    }
   },
   "outputs": [],
   "source": [
    "# Map to qubit Hamiltonian\n",
    "qubit_mapper = ParityMapper(num_particles=problem.num_particles)\n",
    "qubit_hamiltonian = qubit_mapper.map(hamiltonian)"
   ]
  },
  {
   "cell_type": "code",
   "execution_count": 5,
   "id": "235f6138",
   "metadata": {},
   "outputs": [
    {
     "name": "stdout",
     "output_type": "stream",
     "text": [
      "10\n"
     ]
    }
   ],
   "source": [
    "print(qubit_hamiltonian.num_qubits)"
   ]
  },
  {
   "cell_type": "markdown",
   "id": "f2e67a33",
   "metadata": {},
   "source": [
    "To reduce the size of the problem, we use the `ActiveSpaceTransformer`. It selectes the specific molecular orbitals on which we want to study the problem, which reduces the number of qubits to 4."
   ]
  },
  {
   "cell_type": "code",
   "execution_count": 6,
   "id": "5f7d0c06",
   "metadata": {
    "slideshow": {
     "slide_type": "skip"
    }
   },
   "outputs": [],
   "source": [
    "# Activate space transformer\n",
    "active_space_transformer = ActiveSpaceTransformer(num_electrons=2, num_spatial_orbitals=3)\n",
    "as_problem = active_space_transformer.transform(problem)\n",
    "as_hamiltonian = qubit_mapper.map(as_problem.hamiltonian.second_q_op())"
   ]
  },
  {
   "cell_type": "code",
   "execution_count": 7,
   "id": "e559b124",
   "metadata": {},
   "outputs": [
    {
     "name": "stdout",
     "output_type": "stream",
     "text": [
      "4\n"
     ]
    }
   ],
   "source": [
    "print(as_hamiltonian.num_qubits)"
   ]
  },
  {
   "cell_type": "markdown",
   "id": "3bd451c1",
   "metadata": {},
   "source": [
    "### Exact solution\n",
    "\n",
    "Since it is a small problem, we can solve for the exact solution of the problem (exact within the chosen basis set and active space)."
   ]
  },
  {
   "cell_type": "code",
   "execution_count": 8,
   "id": "79a787bf",
   "metadata": {},
   "outputs": [],
   "source": [
    "exact_solver = NumPyMinimumEigensolver()\n",
    "exact_result = exact_solver.compute_minimum_eigenvalue(as_hamiltonian)\n",
    "exact_result = as_problem.interpret(exact_result)"
   ]
  },
  {
   "cell_type": "code",
   "execution_count": 9,
   "id": "a8995205",
   "metadata": {},
   "outputs": [
    {
     "name": "stdout",
     "output_type": "stream",
     "text": [
      "=== GROUND STATE ENERGY ===\n",
      " \n",
      "* Electronic ground state energy (Hartree): -8.919276114566\n",
      "  - computed part:      -0.970051701683\n",
      "  - ActiveSpaceTransformer extracted energy part: -7.949224412883\n",
      "~ Nuclear repulsion energy (Hartree): 1.221178179046\n",
      "> Total ground state energy (Hartree): -7.69809793552\n",
      " \n",
      "=== MEASURED OBSERVABLES ===\n",
      " \n",
      " \n",
      "=== DIPOLE MOMENTS ===\n",
      " \n",
      "~ Nuclear dipole moment (a.u.): [0.0  0.0  2.45664396]\n",
      " \n"
     ]
    }
   ],
   "source": [
    "print(exact_result)"
   ]
  },
  {
   "cell_type": "markdown",
   "id": "370cc719",
   "metadata": {},
   "source": [
    "### VQE\n",
    "In order to run the VQE we first have to define the parameterized ansatz that will approximate the ground state of the Hamiltonian. We use the `UCCSD` ansatz with the `HartreeFock` initial state."
   ]
  },
  {
   "cell_type": "code",
   "execution_count": 10,
   "id": "729b0cd3",
   "metadata": {
    "slideshow": {
     "slide_type": "skip"
    }
   },
   "outputs": [],
   "source": [
    "# Setup ansatz\n",
    "initial_state = HartreeFock(\n",
    "    num_spatial_orbitals=as_problem.num_spatial_orbitals, \n",
    "    num_particles=as_problem.num_particles, \n",
    "    qubit_mapper=qubit_mapper)\n",
    "\n",
    "ansatz = UCCSD(\n",
    "    num_spatial_orbitals=as_problem.num_spatial_orbitals, \n",
    "    num_particles=as_problem.num_particles, \n",
    "    qubit_mapper=qubit_mapper, \n",
    "    initial_state=initial_state)"
   ]
  },
  {
   "cell_type": "markdown",
   "id": "79e5709d",
   "metadata": {},
   "source": [
    "To optimize the parameters of the ansatz we use the `COBYLA` optimizer. Additionally we also define the function `callback` to store the intermediate values of the energy during the optimization. We can then bring everything together and setup the `VQE` solver."
   ]
  },
  {
   "cell_type": "code",
   "execution_count": 11,
   "id": "38c91ec1",
   "metadata": {
    "slideshow": {
     "slide_type": "skip"
    }
   },
   "outputs": [],
   "source": [
    "# Setup optimizer\n",
    "optimizer = COBYLA(maxiter=2500)\n",
    "\n",
    "energies = []\n",
    "def callback(nfev, x, fx, *args):\n",
    "    energies.append(fx)\n",
    "\n",
    "# Setup VQE\n",
    "estimator = Estimator()\n",
    "vqe_solver = VQE(estimator, ansatz, optimizer, callback=callback)"
   ]
  },
  {
   "cell_type": "markdown",
   "id": "37ffc417",
   "metadata": {},
   "source": [
    "Finally, we solve for the ground state of the Hamiltonian by calling the `compute_minimum_eigenvalue` method of the VQE solver."
   ]
  },
  {
   "cell_type": "code",
   "execution_count": 12,
   "id": "c3d3b488",
   "metadata": {
    "slideshow": {
     "slide_type": "skip"
    }
   },
   "outputs": [],
   "source": [
    "# Solve for the groundstate\n",
    "result = vqe_solver.compute_minimum_eigenvalue(as_hamiltonian)\n",
    "result = as_problem.interpret(result)"
   ]
  },
  {
   "cell_type": "code",
   "execution_count": 13,
   "id": "39826c40",
   "metadata": {
    "slideshow": {
     "slide_type": "skip"
    }
   },
   "outputs": [
    {
     "name": "stdout",
     "output_type": "stream",
     "text": [
      "=== GROUND STATE ENERGY ===\n",
      " \n",
      "* Electronic ground state energy (Hartree): -8.919276111897\n",
      "  - computed part:      -0.970051699014\n",
      "  - ActiveSpaceTransformer extracted energy part: -7.949224412883\n",
      "~ Nuclear repulsion energy (Hartree): 1.221178179046\n",
      "> Total ground state energy (Hartree): -7.698097932851\n",
      " \n",
      "=== MEASURED OBSERVABLES ===\n",
      " \n",
      " \n",
      "=== DIPOLE MOMENTS ===\n",
      " \n",
      "~ Nuclear dipole moment (a.u.): [0.0  0.0  2.45664396]\n",
      " \n"
     ]
    }
   ],
   "source": [
    "print(result)"
   ]
  },
  {
   "cell_type": "markdown",
   "id": "d219635a",
   "metadata": {},
   "source": [
    "In the following we visualize the evolution of the energy during the optimization."
   ]
  },
  {
   "cell_type": "code",
   "execution_count": 14,
   "id": "0200bbf5",
   "metadata": {
    "slideshow": {
     "slide_type": "slide"
    }
   },
   "outputs": [],
   "source": [
    "vqe_energies = []\n",
    "\n",
    "for energy in energies:\n",
    "    result = MinimumEigensolverResult()\n",
    "    result.eigenvalue = energy\n",
    "    vqe_energies.append(as_problem.interpret(result).total_energies[0])"
   ]
  },
  {
   "cell_type": "code",
   "execution_count": 15,
   "id": "541d90c1",
   "metadata": {},
   "outputs": [
    {
     "data": {
      "image/png": "[encoded data removed]",
      "text/plain": [
       "<Figure size 432x288 with 1 Axes>"
      ]
     },
     "metadata": {
      "needs_background": "light"
     },
     "output_type": "display_data"
    }
   ],
   "source": [
    "plt.plot(vqe_energies, label='VQE')\n",
    "plt.axhline(exact_result.total_energies[0], color='red', linestyle='dashed', label='Exact')\n",
    "\n",
    "plt.ylabel('Energy [Ha]', fontsize=20)\n",
    "plt.xlabel('Optimization steps', fontsize=20)\n",
    "\n",
    "plt.tick_params(which='both', labelsize=14)\n",
    "plt.legend(fontsize=16)\n",
    "plt.tight_layout()"
   ]
  },
  {
   "cell_type": "markdown",
   "id": "03c8852f",
   "metadata": {},
   "source": [
    "### Additional material\n",
    "\n",
    "* Qiskit tutorials related to the electronic Hamiltonian and solving for its ground state (and more) can be found [here](https://qiskit.org/ecosystem/nature/tutorials/index.html).\n",
    "* Further readings: \n",
    "    * Peruzzo, A., et al. \"A variational eigenvalue solver on a photonic quantum processor.\" [Nature communications 5.1 (2014): 4213](https://www.nature.com/articles/ncomms5213). \n",
    "    * Kandala, A., et al. \"Hardware-efficient variational quantum eigensolver for small molecules and quantum magnets.\" [Nature 549.7671 (2017): 242-246](https://www.nature.com/articles/nature23879)."
   ]
  },
  {
   "cell_type": "code",
   "execution_count": 16,
   "id": "53b3c8dc",
   "metadata": {},
   "outputs": [
    {
     "data": {
      "text/html": [
       "<h3>Version Information</h3><table><tr><th>Qiskit Software</th><th>Version</th></tr><tr><td><code>qiskit-terra</code></td><td>0.24.0.dev0+40f73a3</td></tr><tr><td><code>qiskit-ignis</code></td><td>0.7.0</td></tr><tr><td><code>qiskit-nature</code></td><td>0.6.0</td></tr><tr><td><code>qiskit-machine-learning</code></td><td>0.4.0</td></tr><tr><th>System information</th></tr><tr><td>Python version</td><td>3.9.7</td></tr><tr><td>Python compiler</td><td>Clang 10.0.0 </td></tr><tr><td>Python build</td><td>default, Sep 16 2021 08:50:36</td></tr><tr><td>OS</td><td>Darwin</td></tr><tr><td>CPUs</td><td>4</td></tr><tr><td>Memory (Gb)</td><td>32.0</td></tr><tr><td colspan='2'>Thu Jun 15 10:35:09 2023 CEST</td></tr></table>"
      ],
      "text/plain": [
       "<IPython.core.display.HTML object>"
      ]
     },
     "metadata": {},
     "output_type": "display_data"
    },
    {
     "data": {
      "text/html": [
       "<div style='width: 100%; background-color:#d5d9e0;padding-left: 10px; padding-bottom: 10px; padding-right: 10px; padding-top: 5px'><h3>This code is a part of Qiskit</h3><p>&copy; Copyright IBM 2017, 2023.</p><p>This code is licensed under the Apache License, Version 2.0. You may<br>obtain a copy of this license in the LICENSE.txt file in the root directory<br> of this source tree or at http://www.apache.org/licenses/LICENSE-2.0.<p>Any modifications or derivative works of this code must retain this<br>copyright notice, and modified files need to carry a notice indicating<br>that they have been altered from the originals.</p></div>"
      ],
      "text/plain": [
       "<IPython.core.display.HTML object>"
      ]
     },
     "metadata": {},
     "output_type": "display_data"
    }
   ],
   "source": [
    "import qiskit.tools.jupyter\n",
    "\n",
    "%qiskit_version_table\n",
    "%qiskit_copyright"
   ]
  },
  {
   "cell_type": "code",
   "execution_count": null,
   "id": "4a32d1cd",
   "metadata": {},
   "outputs": [],
   "source": []
  }
 ],
 "metadata": {
  "kernelspec": {
   "display_name": "Python [conda env:qiskit_dev] *",
   "language": "python",
   "name": "conda-env-qiskit_dev-py"
  },
  "language_info": {
   "codemirror_mode": {
    "name": "ipython",
    "version": 3
   },
   "file_extension": ".py",
   "mimetype": "text/x-python",
   "name": "python",
   "nbconvert_exporter": "python",
   "pygments_lexer": "ipython3",
   "version": "3.9.7"
  }
 },
 "nbformat": 4,
 "nbformat_minor": 5
}
